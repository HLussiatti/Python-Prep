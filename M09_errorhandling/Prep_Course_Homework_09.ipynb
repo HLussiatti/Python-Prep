{
 "cells": [
  {
   "attachments": {},
   "cell_type": "markdown",
   "metadata": {},
   "source": [
    "## Manejo de errores"
   ]
  },
  {
   "attachments": {},
   "cell_type": "markdown",
   "metadata": {},
   "source": [
    "1) Con la clase creada en el módulo 7, tener en cuenta diferentes casos en que el código pudiera arrojar error. Por ejemplo, en la creación del objeto recibimos una lista de números enteros pero ¿qué pasa si se envía otro tipo de dato?"
   ]
  },
  {
   "cell_type": "code",
   "execution_count": 10,
   "metadata": {},
   "outputs": [
    {
     "ename": "ValueError",
     "evalue": "El objeto debe ser una lista.",
     "output_type": "error",
     "traceback": [
      "\u001b[1;31m---------------------------------------------------------------------------\u001b[0m",
      "\u001b[1;31mValueError\u001b[0m                                Traceback (most recent call last)",
      "Cell \u001b[1;32mIn[10], line 5\u001b[0m\n\u001b[0;32m      1\u001b[0m \u001b[38;5;28;01mimport\u001b[39;00m \u001b[38;5;21;01mArchivo_Funciones\u001b[39;00m \u001b[38;5;28;01mas\u001b[39;00m \u001b[38;5;21;01mAF\u001b[39;00m\n\u001b[0;32m      4\u001b[0m lista \u001b[38;5;241m=\u001b[39m {\u001b[38;5;241m4\u001b[39m,\u001b[38;5;241m15\u001b[39m,\u001b[38;5;241m15\u001b[39m,\u001b[38;5;241m15\u001b[39m,\u001b[38;5;241m15\u001b[39m,\u001b[38;5;241m16\u001b[39m,\u001b[38;5;241m17\u001b[39m,\u001b[38;5;241m18\u001b[39m,\u001b[38;5;241m19\u001b[39m,\u001b[38;5;241m20\u001b[39m}\n\u001b[1;32m----> 5\u001b[0m test \u001b[38;5;241m=\u001b[39m \u001b[43mAF\u001b[49m\u001b[38;5;241;43m.\u001b[39;49m\u001b[43mFunciones_del_Archivo\u001b[49m\u001b[43m(\u001b[49m\u001b[43mlista\u001b[49m\u001b[43m)\u001b[49m\n\u001b[0;32m      6\u001b[0m lista \u001b[38;5;241m=\u001b[39m [\u001b[38;5;241m4\u001b[39m,\u001b[38;5;124m'\u001b[39m\u001b[38;5;124ma\u001b[39m\u001b[38;5;124m'\u001b[39m,\u001b[38;5;241m15\u001b[39m,\u001b[38;5;241m15\u001b[39m,\u001b[38;5;241m15\u001b[39m,\u001b[38;5;241m16\u001b[39m,\u001b[38;5;241m17\u001b[39m,\u001b[38;5;241m18\u001b[39m,\u001b[38;5;241m19\u001b[39m,\u001b[38;5;241m20\u001b[39m]    \n\u001b[0;32m      7\u001b[0m test \u001b[38;5;241m=\u001b[39m AF\u001b[38;5;241m.\u001b[39mFunciones_del_Archivo(lista)\n",
      "File \u001b[1;32mc:\\Users\\Hernán\\Dropbox\\Míos\\20. Soy Henry\\Python-Prep\\M09_errorhandling\\Archivo_Funciones.py:5\u001b[0m, in \u001b[0;36mFunciones_del_Archivo.__init__\u001b[1;34m(self, lista)\u001b[0m\n\u001b[0;32m      3\u001b[0m \u001b[38;5;28;01mdef\u001b[39;00m \u001b[38;5;21m__init__\u001b[39m (\u001b[38;5;28mself\u001b[39m, lista):\n\u001b[0;32m      4\u001b[0m     \u001b[38;5;66;03m#assert  type(lista) =!= list, print('Debe ingresar una lista.')\u001b[39;00m\n\u001b[1;32m----> 5\u001b[0m     \u001b[38;5;28;01mif\u001b[39;00m \u001b[38;5;28mtype\u001b[39m(lista) \u001b[38;5;241m!=\u001b[39m \u001b[38;5;28mlist\u001b[39m: \u001b[38;5;28;01mraise\u001b[39;00m \u001b[38;5;167;01mValueError\u001b[39;00m (\u001b[38;5;124m'\u001b[39m\u001b[38;5;124mEl objeto debe ser una lista.\u001b[39m\u001b[38;5;124m'\u001b[39m)\n\u001b[0;32m      6\u001b[0m     \u001b[38;5;28;01mfor\u001b[39;00m i \u001b[38;5;129;01min\u001b[39;00m lista:\n\u001b[0;32m      7\u001b[0m         \u001b[38;5;66;03m#assert  type(i) == int ,  print('La lista debe contener números enteros.')\u001b[39;00m\n\u001b[0;32m      8\u001b[0m         \u001b[38;5;28;01mif\u001b[39;00m \u001b[38;5;28mtype\u001b[39m(i) \u001b[38;5;241m!=\u001b[39m \u001b[38;5;28mint\u001b[39m:\n",
      "\u001b[1;31mValueError\u001b[0m: El objeto debe ser una lista."
     ]
    }
   ],
   "source": [
    "import Archivo_Funciones as AF\n",
    "\n",
    "lista = {4,15,15,15,15,16,17,18,19,20}\n",
    "test = AF.Funciones_del_Archivo(lista)\n",
    "lista = [4,'a',15,15,15,16,17,18,19,20]    \n",
    "test = AF.Funciones_del_Archivo(lista)\n",
    "\n"
   ]
  },
  {
   "attachments": {},
   "cell_type": "markdown",
   "metadata": {},
   "source": [
    "2) En la función que hace la conversión de grados, validar que los parámetros enviados sean los esperados, de no serlo, informar cuáles son los valores esperados."
   ]
  },
  {
   "cell_type": "code",
   "execution_count": 21,
   "metadata": {},
   "outputs": [
    {
     "name": "stdout",
     "output_type": "stream",
     "text": [
      "El número: 4 no es primo\n",
      "El número: 15 no es primo\n",
      "El número: 15 no es primo\n",
      "El número: 15 no es primo\n",
      "El número: 15 no es primo\n",
      "El número: 16 no es primo\n",
      "El número: 17 sí es primo\n",
      "El número: 18 no es primo\n",
      "El número: 19 sí es primo\n",
      "El número: 20 no es primo\n",
      "La unidad de origen es incorrecta, ingrese un valor válido: Celsius / Fareheit / Kelvin\n"
     ]
    }
   ],
   "source": [
    "import Archivo_Funciones as AF\n",
    "\n",
    "lista = [4,15,15,15,15,16,17,18,19,20]    \n",
    "\n",
    "test = AF.Funciones_del_Archivo(lista)\n",
    "test.es_primo()\n",
    "#test.numero_repetido( )\n",
    "#test.convierte_grados('Celsius','Kelvin')\n",
    "test.convierte_grados('asd','xxxx')\n",
    "#test.factorial ()"
   ]
  },
  {
   "attachments": {},
   "cell_type": "markdown",
   "metadata": {},
   "source": [
    "3) Importar el modulo \"unittest\" y crear los siguientes casos de pruebas sobre la clase utilizada en el punto 2<br>\n",
    "Creacion del objeto incorrecta<br>\n",
    "Creacion correcta del objeto<br>\n",
    "Metodo valor_modal()<br>\n",
    "\n",
    "Se puede usar \"raise ValueError()\" en la creación de la clase para verificar el error. Investigar sobre esta funcionalidad."
   ]
  },
  {
   "cell_type": "code",
   "execution_count": 33,
   "metadata": {},
   "outputs": [
    {
     "name": "stderr",
     "output_type": "stream",
     "text": [
      "test_Creación_de_Objeto_Correcta (__main__.PruebaArchivoFunciones.test_Creación_de_Objeto_Correcta) ... ok\n",
      "test_Creación_de_Objeto_Incorrecta (__main__.PruebaArchivoFunciones.test_Creación_de_Objeto_Incorrecta) ... ok\n",
      "test_Prueba_numero_repetido (__main__.PruebaArchivoFunciones.test_Prueba_numero_repetido) ... ok\n",
      "\n",
      "----------------------------------------------------------------------\n",
      "Ran 3 tests in 0.006s\n",
      "\n",
      "OK\n"
     ]
    },
    {
     "name": "stdout",
     "output_type": "stream",
     "text": [
      "El número que más se repite es: 15 un total de 4 veces.\n"
     ]
    },
    {
     "data": {
      "text/plain": [
       "<unittest.main.TestProgram at 0x2200c0ef470>"
      ]
     },
     "execution_count": 33,
     "metadata": {},
     "output_type": "execute_result"
    }
   ],
   "source": [
    "import Archivo_Funciones as AF\n",
    "import unittest\n",
    "\n",
    "class PruebaArchivoFunciones (unittest.TestCase):\n",
    "    \n",
    "    def test_Creación_de_Objeto_Incorrecta(self): \n",
    "        #Pruebo con un objeto no lista\n",
    "        test = 'CASA'\n",
    "        self.assertRaises(ValueError, AF.Funciones_del_Archivo, test)\n",
    "        #Pruebo con un objeto  ista, no todos enteros.\n",
    "        test = [4,'a',15,15,15,16,17,18,19,20] \n",
    "        self.assertRaises(ValueError, AF.Funciones_del_Archivo, test)\n",
    "   \n",
    "    def test_Creación_de_Objeto_Correcta (self):\n",
    "        test = [4,15,15,15,16,17,18,19,20]\n",
    "        resultado_test = AF.Funciones_del_Archivo(test)\n",
    "        self.assertEqual (resultado_test.lista , test)\n",
    "    \n",
    "    def test_Prueba_numero_repetido(self):\n",
    "        test = [4,15,15,15,15,16,17,18,19,20] \n",
    "        resultado_test = AF.Funciones_del_Archivo(lista)\n",
    "        resultado_test = resultado_test.numero_repetido()\n",
    "        \n",
    "        #uso una librería para probar\n",
    "        import statistics as EST\n",
    "        resultado_esperado = EST.mode(test)\n",
    "        self.assertEqual (resultado_test, resultado_test)\n",
    "\n",
    "\n",
    "unittest.main (argv = [\"\"], verbosity = 2, exit = False)\n",
    "        \n"
   ]
  },
  {
   "attachments": {},
   "cell_type": "markdown",
   "metadata": {},
   "source": [
    "4) Probar una creación incorrecta y visualizar la salida del \"raise\""
   ]
  },
  {
   "cell_type": "code",
   "execution_count": 36,
   "metadata": {},
   "outputs": [
    {
     "ename": "ValueError",
     "evalue": "El objeto debe ser una lista.",
     "output_type": "error",
     "traceback": [
      "\u001b[1;31m---------------------------------------------------------------------------\u001b[0m",
      "\u001b[1;31mValueError\u001b[0m                                Traceback (most recent call last)",
      "Cell \u001b[1;32mIn[36], line 2\u001b[0m\n\u001b[0;32m      1\u001b[0m test \u001b[38;5;241m=\u001b[39m \u001b[38;5;124m'\u001b[39m\u001b[38;5;124mCASA\u001b[39m\u001b[38;5;124m'\u001b[39m\n\u001b[1;32m----> 2\u001b[0m resultado_test \u001b[38;5;241m=\u001b[39m \u001b[43mAF\u001b[49m\u001b[38;5;241;43m.\u001b[39;49m\u001b[43mFunciones_del_Archivo\u001b[49m\u001b[43m(\u001b[49m\u001b[43mtest\u001b[49m\u001b[43m)\u001b[49m\n",
      "File \u001b[1;32mc:\\Users\\Hernán\\Dropbox\\Míos\\20. Soy Henry\\Python-Prep\\M09_errorhandling\\Archivo_Funciones.py:5\u001b[0m, in \u001b[0;36mFunciones_del_Archivo.__init__\u001b[1;34m(self, lista)\u001b[0m\n\u001b[0;32m      3\u001b[0m \u001b[38;5;28;01mdef\u001b[39;00m \u001b[38;5;21m__init__\u001b[39m (\u001b[38;5;28mself\u001b[39m, lista):\n\u001b[0;32m      4\u001b[0m     \u001b[38;5;66;03m#assert  type(lista) =!= list, print('Debe ingresar una lista.')\u001b[39;00m\n\u001b[1;32m----> 5\u001b[0m     \u001b[38;5;28;01mif\u001b[39;00m \u001b[38;5;28mtype\u001b[39m(lista) \u001b[38;5;241m!=\u001b[39m \u001b[38;5;28mlist\u001b[39m: \u001b[38;5;28;01mraise\u001b[39;00m \u001b[38;5;167;01mValueError\u001b[39;00m (\u001b[38;5;124m'\u001b[39m\u001b[38;5;124mEl objeto debe ser una lista.\u001b[39m\u001b[38;5;124m'\u001b[39m)\n\u001b[0;32m      6\u001b[0m     \u001b[38;5;28;01mfor\u001b[39;00m i \u001b[38;5;129;01min\u001b[39;00m lista:\n\u001b[0;32m      7\u001b[0m         \u001b[38;5;66;03m#assert  type(i) == int ,  print('La lista debe contener números enteros.')\u001b[39;00m\n\u001b[0;32m      8\u001b[0m         \u001b[38;5;28;01mif\u001b[39;00m \u001b[38;5;28mtype\u001b[39m(i) \u001b[38;5;241m!=\u001b[39m \u001b[38;5;28mint\u001b[39m:\n",
      "\u001b[1;31mValueError\u001b[0m: El objeto debe ser una lista."
     ]
    }
   ],
   "source": [
    "import Archivo_Funciones as AF\n",
    "test = 'CASA'\n",
    "resultado_test = AF.Funciones_del_Archivo(test)"
   ]
  },
  {
   "attachments": {},
   "cell_type": "markdown",
   "metadata": {},
   "source": [
    "6) Agregar casos de pruebas para el método verifica_primos() realizando el cambio en la clase, para que devuelva una lista de True o False en función de que el elemento en la posisicón sea o no primo"
   ]
  },
  {
   "cell_type": "code",
   "execution_count": 8,
   "metadata": {},
   "outputs": [
    {
     "name": "stderr",
     "output_type": "stream",
     "text": [
      "test_Función_Primos (__main__.Prueba_Función_Primos.test_Función_Primos) ... ok\n",
      "\n",
      "----------------------------------------------------------------------\n",
      "Ran 1 test in 0.002s\n",
      "\n",
      "OK\n"
     ]
    },
    {
     "data": {
      "text/plain": [
       "<unittest.main.TestProgram at 0x19e6f7aa0c0>"
      ]
     },
     "execution_count": 8,
     "metadata": {},
     "output_type": "execute_result"
    }
   ],
   "source": [
    "import Archivo_Funciones as AF\n",
    "import unittest\n",
    "import sympy\n",
    "\n",
    "class Prueba_Función_Primos (unittest.TestCase):\n",
    "    def test_Función_Primos (self):\n",
    "        test = [4,15,15,15,15,16,17,18,19,20]    \n",
    "        resultado_test = AF.Funciones_del_Archivo(test)\n",
    "        resultado_test = resultado_test.es_primo()\n",
    "        resultado_esperado = []\n",
    "        for n in test:\n",
    "            resultado_esperado.append(sympy.isprime(n))\n",
    "        self.assertEqual(resultado_esperado, resultado_test)\n",
    "\n",
    "unittest.main (argv = [\"\"], verbosity = 2, exit = False)"
   ]
  },
  {
   "attachments": {},
   "cell_type": "markdown",
   "metadata": {},
   "source": [
    "7) Agregar casos de pruebas para el método conversion_grados()"
   ]
  },
  {
   "cell_type": "code",
   "execution_count": 1,
   "metadata": {},
   "outputs": [
    {
     "name": "stderr",
     "output_type": "stream",
     "text": [
      "test_Convierte_Grados (__main__.Prueba_Función_Primos.test_Convierte_Grados) ... ok\n",
      "\n",
      "----------------------------------------------------------------------\n",
      "Ran 1 test in 0.002s\n",
      "\n",
      "OK\n"
     ]
    },
    {
     "data": {
      "text/plain": [
       "<unittest.main.TestProgram at 0x2c859bda3c0>"
      ]
     },
     "execution_count": 1,
     "metadata": {},
     "output_type": "execute_result"
    }
   ],
   "source": [
    "import Archivo_Funciones as AF\n",
    "import unittest\n",
    "\n",
    "\n",
    "class Prueba_Función_Primos (unittest.TestCase):\n",
    "    def test_Convierte_Grados (self):\n",
    "        test = [4,5,6,7,8]    \n",
    "        resultado_test = AF.Funciones_del_Archivo(test)\n",
    "        resultado_test = resultado_test.convierte_grados('Celsius','Kelvin')\n",
    "        resultado_esperado = []\n",
    "        for n in test:\n",
    "            resultado_esperado.append(n+ 273.15)\n",
    "\n",
    "        self.assertEqual(resultado_esperado, resultado_test)\n",
    "\n",
    "unittest.main (argv = [\"\"], verbosity = 2, exit = False)"
   ]
  },
  {
   "attachments": {},
   "cell_type": "markdown",
   "metadata": {},
   "source": [
    "8) Agregar casos de pruebas para el método factorial()"
   ]
  },
  {
   "cell_type": "code",
   "execution_count": 2,
   "metadata": {},
   "outputs": [
    {
     "name": "stderr",
     "output_type": "stream",
     "text": [
      "test_Factorial (__main__.Prueba_Función_Factorial.test_Factorial) ... ok\n",
      "\n",
      "----------------------------------------------------------------------\n",
      "Ran 1 test in 0.003s\n",
      "\n",
      "OK\n"
     ]
    },
    {
     "name": "stdout",
     "output_type": "stream",
     "text": [
      "[24, 120, 720, 5040, 40320]\n"
     ]
    },
    {
     "data": {
      "text/plain": [
       "<unittest.main.TestProgram at 0x1da9a8335c0>"
      ]
     },
     "execution_count": 2,
     "metadata": {},
     "output_type": "execute_result"
    }
   ],
   "source": [
    "import Archivo_Funciones as AF\n",
    "import unittest\n",
    "import math\n",
    "\n",
    "\n",
    "class Prueba_Función_Factorial (unittest.TestCase):\n",
    "    def test_Factorial (self):\n",
    "        test = [4,5,6,7,8]    \n",
    "        resultado_test = AF.Funciones_del_Archivo(test)\n",
    "        resultado_test = resultado_test.factorial()\n",
    "        \n",
    "        resultado_esperado = []\n",
    "        for n in test:\n",
    "            resultado_esperado.append(math.factorial(n))\n",
    "\n",
    "        self.assertEqual(resultado_esperado, resultado_test)\n",
    "        print(resultado_esperado)\n",
    "unittest.main (argv = [\"\"], verbosity = 2, exit = False)"
   ]
  }
 ],
 "metadata": {
  "interpreter": {
   "hash": "c85384e4cb51c8b72350f3a8712cc8351fdc3955e32a27f9b60c6242ab125f01"
  },
  "kernelspec": {
   "display_name": "Python 3 (ipykernel)",
   "language": "python",
   "name": "python3"
  },
  "language_info": {
   "codemirror_mode": {
    "name": "ipython",
    "version": 3
   },
   "file_extension": ".py",
   "mimetype": "text/x-python",
   "name": "python",
   "nbconvert_exporter": "python",
   "pygments_lexer": "ipython3",
   "version": "3.12.1"
  }
 },
 "nbformat": 4,
 "nbformat_minor": 4
}
