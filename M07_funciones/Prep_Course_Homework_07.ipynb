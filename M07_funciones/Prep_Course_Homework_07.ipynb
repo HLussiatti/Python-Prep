{
 "cells": [
  {
   "attachments": {},
   "cell_type": "markdown",
   "metadata": {},
   "source": [
    "## Funciones"
   ]
  },
  {
   "attachments": {},
   "cell_type": "markdown",
   "metadata": {},
   "source": [
    "1) Crear una función que reciba un número como parámetro y devuelva True si es primo y False si no lo es"
   ]
  },
  {
   "cell_type": "code",
   "execution_count": 16,
   "metadata": {},
   "outputs": [
    {
     "data": {
      "text/plain": [
       "True"
      ]
     },
     "execution_count": 16,
     "metadata": {},
     "output_type": "execute_result"
    }
   ],
   "source": [
    "def es_primo (numero):\n",
    "    if (numero != 0 and numero != 1):\n",
    "        divisores = 0\n",
    "        for j in range(1, numero + 1):\n",
    "            if numero % j == 0:\n",
    "                divisores += 1\n",
    "                if divisores >2:\n",
    "                    return False\n",
    "                    break\n",
    "        if divisores ==2:\n",
    "            return True\n",
    "    else:\n",
    "        return False\n",
    "\n",
    "es_primo(17)"
   ]
  },
  {
   "attachments": {},
   "cell_type": "markdown",
   "metadata": {},
   "source": [
    "2) Utilizando la función del punto 1, realizar otra función que reciba de parámetro una lista de números y devuelva sólo aquellos que son primos en otra lista"
   ]
  },
  {
   "cell_type": "code",
   "execution_count": 21,
   "metadata": {},
   "outputs": [
    {
     "name": "stdout",
     "output_type": "stream",
     "text": [
      "[2, 3, 5, 7, 11, 13, 17, 19]\n"
     ]
    }
   ],
   "source": [
    "def devuelve_primos (lista):\n",
    "    lista_primos =[]\n",
    "    if type(lista) != list:\n",
    "        print ('Se debe ingresar una variable del tipo lista.')\n",
    "    else:\n",
    "        lista_primos=[i for i in lista if es_primo(i)]\n",
    "        return lista_primos\n",
    "    \n",
    "lista = [1,2,3,4,5,6,7,8,9,10,11,12,13,14,15,16,17,18,19,20]\n",
    "lista_primos = devuelve_primos(lista)\n",
    "print (lista_primos)\n",
    "\n"
   ]
  },
  {
   "attachments": {},
   "cell_type": "markdown",
   "metadata": {},
   "source": [
    "3) Crear una función que al recibir una lista de números, devuelva el que más se repite y cuántas veces lo hace. Si hay más de un \"más repetido\", que devuelva cualquiera"
   ]
  },
  {
   "cell_type": "code",
   "execution_count": 23,
   "metadata": {},
   "outputs": [
    {
     "name": "stdout",
     "output_type": "stream",
     "text": [
      "El número que más se repite es: 7 un total de 3 veces.\n"
     ]
    }
   ],
   "source": [
    "def numero_repetido (lista):\n",
    "    mas_repetido = 0\n",
    "    catidad_repeticiones=0\n",
    "    for i in lista:\n",
    "        if catidad_repeticiones < lista.count(i): \n",
    "            catidad_repeticiones = lista.count(i) \n",
    "            mas_repetido = i\n",
    "    print ('El número que más se repite es: ' + str(mas_repetido) + ' un total de ' + str (catidad_repeticiones) + ' veces.')\n",
    "    \n",
    "\n",
    "\n",
    "lista = [1,2,3,4,5,6,7,7,7,8,9,10,11,12,13,14,15,16,17,18,19,20]     \n",
    "numero_repetido(lista)\n",
    "\n"
   ]
  },
  {
   "attachments": {},
   "cell_type": "markdown",
   "metadata": {},
   "source": [
    "4) Crear una función que convierta entre grados Celsius, Farenheit y Kelvin<br>\n",
    "Fórmula 1\t: (°C × 9/5) + 32 = °F<br>\n",
    "Fórmula 2\t: °C + 273.15 = °K<br>\n",
    "Debe recibir 3 parámetros: el valor, la medida de orígen y la medida de destino\n"
   ]
  },
  {
   "cell_type": "code",
   "execution_count": 29,
   "metadata": {},
   "outputs": [
    {
     "name": "stdout",
     "output_type": "stream",
     "text": [
      "5 grados Kelvin son equivalentes a: -450.67 grados Farenheit\n"
     ]
    }
   ],
   "source": [
    "def convierte_grados (temp, origen , destino):\n",
    "    if origen == destino:\n",
    "        print ('La unidad de origen y destino son iguales.')\n",
    "    \n",
    "    elif origen == 'Celsius' and origen == 'Farenheit' and origen == 'Kelvin':\n",
    "        print ('La unidad de origen es incorrecta, ingrese un valor válido: Celsius / Fareheit / Kelvin')\n",
    "    \n",
    "    elif destino == 'Celsius' and destino == 'Farenheit' and destino == 'Kelvin':\n",
    "        print ('La unidad de destino es incorrecta, ingrese un valor válido: Celsius / Fareheit / Kelvin')\n",
    "\n",
    "    elif origen == 'Celsius': \n",
    "        if destino == 'Farenheit':\n",
    "            resultado = (temp * 9/5) + 32\n",
    "        elif destino == 'Kelvin':\n",
    "            resultado = temp + 273.15\n",
    "    \n",
    "    elif origen == 'Farenheit':\n",
    "        if destino == 'Celsius':\n",
    "            resultado = (temp - 32) * 5/9\n",
    "        elif destino == 'Kelvin':\n",
    "            resultado = (temp - 32) * 5/9 + 273.15\n",
    "\n",
    "    elif origen == 'Kelvin': \n",
    "        if destino == 'Farenheit':\n",
    "            resultado = (temp - 273.15) * 9/5 +32\n",
    "        elif  destino == 'Celsius':\n",
    "            resultado = (temp - 273.15)\n",
    "\n",
    "    \n",
    "    return print (str(temp) + ' grados ' + origen + ' son equivalentes a: ' + str(round(resultado,2)) + ' grados ' + destino)\n",
    "\n",
    "\n",
    "convierte_grados (5,'Kelvin','Farenheit')\n",
    "\n"
   ]
  },
  {
   "attachments": {},
   "cell_type": "markdown",
   "metadata": {},
   "source": [
    "5) Iterando una lista con los tres valores posibles de temperatura que recibe la función del punto 5, hacer un print para cada combinación de los mismos:"
   ]
  },
  {
   "cell_type": "code",
   "execution_count": 30,
   "metadata": {},
   "outputs": [
    {
     "name": "stdout",
     "output_type": "stream",
     "text": [
      "1 grados Celsius son equivalentes a: 33.8 grados Farenheit\n",
      "1 grados Celsius son equivalentes a: 274.15 grados Kelvin\n",
      "1 grados Farenheit son equivalentes a: -17.22 grados Celsius\n",
      "1 grados Farenheit son equivalentes a: 255.93 grados Kelvin\n",
      "1 grados Kelvin son equivalentes a: -272.15 grados Celsius\n",
      "1 grados Kelvin son equivalentes a: -457.87 grados Farenheit\n"
     ]
    }
   ],
   "source": [
    "lista = ['Celsius','Farenheit', 'Kelvin']\n",
    "for i in lista:\n",
    "    lista_aux = lista.copy()\n",
    "    lista_aux.remove(i)\n",
    "    for j in lista_aux:\n",
    "        convierte_grados (1,i,j)"
   ]
  },
  {
   "attachments": {},
   "cell_type": "markdown",
   "metadata": {},
   "source": [
    "6) Armar una función que devuelva el factorial de un número. Tener en cuenta que el usuario puede equivocarse y enviar de parámetro un número no entero o negativo"
   ]
  },
  {
   "cell_type": "code",
   "execution_count": 40,
   "metadata": {},
   "outputs": [
    {
     "data": {
      "text/plain": [
       "120"
      ]
     },
     "execution_count": 40,
     "metadata": {},
     "output_type": "execute_result"
    }
   ],
   "source": [
    "def factorial (numero):\n",
    "    if type (numero) != int:\n",
    "        return print ('Ingrese un número entero.')\n",
    "    elif numero < 0:\n",
    "        return print ('Ingrese un valor positivo.')\n",
    "    elif numero <= 1:\n",
    "        return 1\n",
    "    else:\n",
    "        numero = numero * factorial (numero - 1)\n",
    "        return numero\n",
    "    \n",
    "\n",
    "factorial (5)"
   ]
  }
 ],
 "metadata": {
  "interpreter": {
   "hash": "c85384e4cb51c8b72350f3a8712cc8351fdc3955e32a27f9b60c6242ab125f01"
  },
  "kernelspec": {
   "display_name": "Python 3 (ipykernel)",
   "language": "python",
   "name": "python3"
  },
  "language_info": {
   "codemirror_mode": {
    "name": "ipython",
    "version": 3
   },
   "file_extension": ".py",
   "mimetype": "text/x-python",
   "name": "python",
   "nbconvert_exporter": "python",
   "pygments_lexer": "ipython3",
   "version": "3.9.7"
  }
 },
 "nbformat": 4,
 "nbformat_minor": 4
}
