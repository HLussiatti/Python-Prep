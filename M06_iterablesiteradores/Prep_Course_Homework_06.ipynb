{
 "cells": [
  {
   "attachments": {},
   "cell_type": "markdown",
   "metadata": {},
   "source": [
    "## Iteradores e iterables"
   ]
  },
  {
   "attachments": {},
   "cell_type": "markdown",
   "metadata": {},
   "source": [
    "1) A partir de una lista vacía, utilizar un ciclo while para cargar allí números negativos del -15 al -1"
   ]
  },
  {
   "cell_type": "code",
   "execution_count": 7,
   "metadata": {},
   "outputs": [
    {
     "name": "stdout",
     "output_type": "stream",
     "text": [
      "[-15, -14, -13, -12, -11, -10, -9, -8, -7, -6, -5, -4, -3, -2, -1]\n"
     ]
    }
   ],
   "source": [
    "lista = []\n",
    "i = (-15)\n",
    "while i <= -1:\n",
    "    lista.append(i)\n",
    "    i += 1\n",
    "print(lista) "
   ]
  },
  {
   "attachments": {},
   "cell_type": "markdown",
   "metadata": {},
   "source": [
    "2) ¿Con un ciclo while sería posible recorrer la lista para imprimir sólo los números pares?"
   ]
  },
  {
   "cell_type": "code",
   "execution_count": 12,
   "metadata": {},
   "outputs": [
    {
     "name": "stdout",
     "output_type": "stream",
     "text": [
      "-14\n",
      "-12\n",
      "-10\n",
      "-8\n",
      "-6\n",
      "-4\n",
      "-2\n"
     ]
    }
   ],
   "source": [
    "i = 0\n",
    "while i < len(lista):\n",
    "    if lista[i] % 2 == 0: print(lista[i])\n",
    "    i += 1"
   ]
  },
  {
   "attachments": {},
   "cell_type": "markdown",
   "metadata": {},
   "source": [
    "3) Resolver el punto anterior sin utilizar un ciclo while"
   ]
  },
  {
   "cell_type": "code",
   "execution_count": 14,
   "metadata": {},
   "outputs": [
    {
     "name": "stdout",
     "output_type": "stream",
     "text": [
      "-14\n",
      "-12\n",
      "-10\n",
      "-8\n",
      "-6\n",
      "-4\n",
      "-2\n"
     ]
    }
   ],
   "source": [
    "for i in lista: \n",
    "    if lista[i] % 2 == 0: print(lista[i])\n"
   ]
  },
  {
   "attachments": {},
   "cell_type": "markdown",
   "metadata": {},
   "source": [
    "4) Utilizar el iterable para recorrer sólo los primeros 3 elementos"
   ]
  },
  {
   "cell_type": "code",
   "execution_count": 16,
   "metadata": {},
   "outputs": [
    {
     "name": "stdout",
     "output_type": "stream",
     "text": [
      "-15\n",
      "-14\n",
      "-13\n",
      "-15\n",
      "-14\n",
      "-13\n"
     ]
    }
   ],
   "source": [
    "for i in lista[:3]: \n",
    "    print(lista[i])\n",
    "\n",
    "iterable = iter(lista)\n",
    "print(next(iterable))\n",
    "print(next(iterable))\n",
    "print(next(iterable))\n"
   ]
  },
  {
   "attachments": {},
   "cell_type": "markdown",
   "metadata": {},
   "source": [
    "5) Utilizar la función **enumerate** para obtener dentro del iterable, tambien el índice al que corresponde el elemento"
   ]
  },
  {
   "cell_type": "code",
   "execution_count": 25,
   "metadata": {},
   "outputs": [
    {
     "name": "stdout",
     "output_type": "stream",
     "text": [
      "0 -15\n",
      "1 -14\n",
      "2 -13\n",
      "3 -12\n",
      "4 -11\n",
      "5 -10\n",
      "6 -9\n",
      "7 -8\n",
      "8 -7\n",
      "9 -6\n",
      "10 -5\n",
      "11 -4\n",
      "12 -3\n",
      "13 -2\n",
      "14 -1\n"
     ]
    }
   ],
   "source": [
    "for i, e in enumerate(lista):\n",
    "        print (i, e)\n"
   ]
  },
  {
   "attachments": {},
   "cell_type": "markdown",
   "metadata": {},
   "source": [
    "6) Dada la siguiente lista de números enteros entre 1 y 20, crear un ciclo donde se completen los valores faltantes: lista = [1,2,5,7,8,10,13,14,15,17,20]"
   ]
  },
  {
   "cell_type": "code",
   "execution_count": 28,
   "metadata": {},
   "outputs": [
    {
     "name": "stdout",
     "output_type": "stream",
     "text": [
      "[1, 2, 3, 4, 5, 6, 7, 8, 9, 10, 11, 12, 13, 14, 15, 16, 17, 18, 19, 20]\n"
     ]
    }
   ],
   "source": [
    "lista = [1,2,5,7,8,10,13,14,15,17,20]\n",
    "for i in range (1,20):\n",
    "    if lista.count(i) == 0: lista.insert(i-1,i)\n",
    "print (lista)\n"
   ]
  },
  {
   "attachments": {},
   "cell_type": "markdown",
   "metadata": {},
   "source": [
    "7) La sucesión de Fibonacci es un listado de números que sigue la fórmula: <br>\n",
    "n<sub>0</sub> = 0<br>\n",
    "n<sub>1</sub> = 1<br>\n",
    "n<sub>i</sub> = n<sub>i-1</sub> + n<sub>i-2</sub><br>\n",
    "Crear una lista con los primeros treinta números de la sucesión.<br>"
   ]
  },
  {
   "cell_type": "code",
   "execution_count": 34,
   "metadata": {},
   "outputs": [
    {
     "name": "stdout",
     "output_type": "stream",
     "text": [
      "[0, 1, 1, 2, 3, 5, 8, 13, 21, 34, 55, 89, 144, 233, 377, 610, 987, 1597, 2584, 4181, 6765, 10946, 17711, 28657, 46368, 75025, 121393, 196418, 317811, 514229]\n"
     ]
    }
   ],
   "source": [
    "fibo=[0,1]\n",
    "for i in range(2,30):\n",
    "    fibo.append(fibo[i-1]+fibo[i-2]) \n",
    "print (fibo)"
   ]
  },
  {
   "attachments": {},
   "cell_type": "markdown",
   "metadata": {},
   "source": [
    "8) Realizar la suma de todos elementos de la lista del punto anterior"
   ]
  },
  {
   "cell_type": "code",
   "execution_count": 35,
   "metadata": {},
   "outputs": [
    {
     "name": "stdout",
     "output_type": "stream",
     "text": [
      "1346268\n"
     ]
    }
   ],
   "source": [
    "print(sum(fibo))"
   ]
  },
  {
   "attachments": {},
   "cell_type": "markdown",
   "metadata": {},
   "source": [
    "9) La proporción aurea se expresa con una proporción matemática que nace el número irracional Phi= 1,618… que los griegos llamaron número áureo. El cuál se puede aproximar con la sucesión de Fibonacci. Con la lista del ejercicio anterior, imprimir el cociente de los últimos 5 pares de dos números contiguos:<br>\n",
    "Donde i es la cantidad total de elementos<br>\n",
    "n<sub>i-1</sub> / n<sub>i</sub><br>\n",
    "n<sub>i-2</sub> / n<sub>i-1</sub><br>\n",
    "n<sub>i-3</sub> / n<sub>i-2</sub><br>\n",
    "n<sub>i-4</sub> / n<sub>i-3</sub><br>\n",
    "n<sub>i-5</sub> / n<sub>i-4</sub><br>\n",
    " "
   ]
  },
  {
   "cell_type": "code",
   "execution_count": 38,
   "metadata": {},
   "outputs": [
    {
     "name": "stdout",
     "output_type": "stream",
     "text": [
      "1.618033988957902\n",
      "1.6180339886704431\n",
      "1.6180339887802426\n",
      "1.618033988738303\n",
      "1.6180339887543225\n"
     ]
    }
   ],
   "source": [
    "for i in range (len(fibo)-5,len(fibo)):\n",
    "    print (fibo[i]/fibo[i-1])"
   ]
  },
  {
   "attachments": {},
   "cell_type": "markdown",
   "metadata": {},
   "source": [
    "10) A partir de la variable cadena ya dada, mostrar en qué posiciones aparece la letra \"n\"<br>\n",
    "cadena = 'Hola Mundo. Esto es una practica del lenguaje de programación Python'"
   ]
  },
  {
   "cell_type": "code",
   "execution_count": 40,
   "metadata": {},
   "outputs": [
    {
     "name": "stdout",
     "output_type": "stream",
     "text": [
      "7\n",
      "21\n",
      "39\n",
      "60\n",
      "67\n"
     ]
    }
   ],
   "source": [
    "cadena = 'Hola Mundo. Esto es una practica del lenguaje de programación Python'\n",
    "for n,c in enumerate(cadena):\n",
    "    if c == 'n': print (n)"
   ]
  },
  {
   "attachments": {},
   "cell_type": "markdown",
   "metadata": {},
   "source": [
    "11) Crear un diccionario e imprimir sus claves utilizando un iterador"
   ]
  },
  {
   "cell_type": "code",
   "execution_count": 41,
   "metadata": {},
   "outputs": [
    {
     "name": "stdout",
     "output_type": "stream",
     "text": [
      "numeros\n",
      "numeros_en_palabras\n"
     ]
    }
   ],
   "source": [
    "dicc = {'numeros': [1,2,3,4] , 'numeros_en_palabras': ['uno','dos','tres','cuatro']}\n",
    "for elemento in dicc:\n",
    "    print (elemento)"
   ]
  },
  {
   "attachments": {},
   "cell_type": "markdown",
   "metadata": {},
   "source": [
    "12) Convertir en una lista la variable \"cadena\" del punto 10 y luego recorrerla con un iterador "
   ]
  },
  {
   "cell_type": "code",
   "execution_count": 44,
   "metadata": {},
   "outputs": [
    {
     "name": "stdout",
     "output_type": "stream",
     "text": [
      "H\n",
      "H\n",
      "o\n",
      "o\n",
      "l\n",
      "l\n",
      "a\n",
      "a\n",
      " \n",
      " \n",
      "M\n",
      "M\n",
      "u\n",
      "u\n",
      "n\n",
      "n\n",
      "d\n",
      "d\n",
      "o\n",
      "o\n",
      ".\n",
      ".\n",
      " \n",
      " \n",
      "E\n",
      "E\n",
      "s\n",
      "s\n",
      "t\n",
      "t\n",
      "o\n",
      "o\n",
      " \n",
      " \n",
      "e\n",
      "e\n",
      "s\n",
      "s\n",
      " \n",
      " \n",
      "u\n",
      "u\n",
      "n\n",
      "n\n",
      "a\n",
      "a\n",
      " \n",
      " \n",
      "p\n",
      "p\n",
      "r\n",
      "r\n",
      "a\n",
      "a\n",
      "c\n",
      "c\n",
      "t\n",
      "t\n",
      "i\n",
      "i\n",
      "c\n",
      "c\n",
      "a\n",
      "a\n",
      " \n",
      " \n",
      "d\n",
      "d\n",
      "e\n",
      "e\n",
      "l\n",
      "l\n",
      " \n",
      " \n",
      "l\n",
      "l\n",
      "e\n",
      "e\n",
      "n\n",
      "n\n",
      "g\n",
      "g\n",
      "u\n",
      "u\n",
      "a\n",
      "a\n",
      "j\n",
      "j\n",
      "e\n",
      "e\n",
      " \n",
      " \n",
      "d\n",
      "d\n",
      "e\n",
      "e\n",
      " \n",
      " \n",
      "p\n",
      "p\n",
      "r\n",
      "r\n",
      "o\n",
      "o\n",
      "g\n",
      "g\n",
      "r\n",
      "r\n",
      "a\n",
      "a\n",
      "m\n",
      "m\n",
      "a\n",
      "a\n",
      "c\n",
      "c\n",
      "i\n",
      "i\n",
      "ó\n",
      "ó\n",
      "n\n",
      "n\n",
      " \n",
      " \n",
      "P\n",
      "P\n",
      "y\n",
      "y\n",
      "t\n",
      "t\n",
      "h\n",
      "h\n",
      "o\n",
      "o\n",
      "n\n",
      "n\n"
     ]
    }
   ],
   "source": [
    "cadena = 'Hola Mundo. Esto es una practica del lenguaje de programación Python'\n",
    "cadena_lista = list(cadena)\n",
    "iter_cadena_lista = iter(cadena_lista)\n",
    "for c in cadena_lista:\n",
    "    print (c)\n",
    "    print (next(iter_cadena_lista))"
   ]
  },
  {
   "attachments": {},
   "cell_type": "markdown",
   "metadata": {},
   "source": [
    "13) Crear dos listas y unirlas en una tupla utilizando la función zip"
   ]
  },
  {
   "cell_type": "code",
   "execution_count": 53,
   "metadata": {},
   "outputs": [
    {
     "name": "stdout",
     "output_type": "stream",
     "text": [
      "68\n",
      "68\n",
      "[(0, 'H'), (1, 'o'), (1, 'l'), (2, 'a'), (3, ' '), (5, 'M'), (8, 'u'), (13, 'n'), (21, 'd'), (34, 'o'), (55, '.'), (89, ' '), (144, 'E'), (233, 's'), (377, 't'), (610, 'o'), (987, ' '), (1597, 'e'), (2584, 's'), (4181, ' '), (6765, 'u'), (10946, 'n'), (17711, 'a'), (28657, ' '), (46368, 'p'), (75025, 'r'), (121393, 'a'), (196418, 'c'), (317811, 't'), (514229, 'i'), (832040, 'c'), (1346269, 'a'), (2178309, ' '), (3524578, 'd'), (5702887, 'e'), (9227465, 'l'), (14930352, ' '), (24157817, 'l'), (39088169, 'e'), (63245986, 'n'), (102334155, 'g'), (165580141, 'u'), (267914296, 'a'), (433494437, 'j'), (701408733, 'e'), (1134903170, ' '), (1836311903, 'd'), (2971215073, 'e'), (4807526976, ' '), (7778742049, 'p'), (12586269025, 'r'), (20365011074, 'o'), (32951280099, 'g'), (53316291173, 'r'), (86267571272, 'a'), (139583862445, 'm'), (225851433717, 'a'), (365435296162, 'c'), (591286729879, 'i'), (956722026041, 'ó'), (1548008755920, 'n'), (2504730781961, ' '), (4052739537881, 'P'), (6557470319842, 'y'), (10610209857723, 't'), (17167680177565, 'h'), (27777890035288, 'o'), (44945570212853, 'n')]\n"
     ]
    }
   ],
   "source": [
    "cadena = 'Hola Mundo. Esto es una practica del lenguaje de programación Python'\n",
    "cadena = list(cadena)\n",
    "\n",
    "fibo=[0,1]\n",
    "for i in range(2,len(cadena)):\n",
    "    fibo.append(fibo[i-1]+fibo[i-2]) \n",
    "\n",
    "print (len(cadena))\n",
    "print (len(fibo))\n",
    "\n",
    "combinación = zip(fibo,cadena)\n",
    "\n",
    "print (list(combinación))"
   ]
  },
  {
   "attachments": {},
   "cell_type": "markdown",
   "metadata": {},
   "source": [
    "14) A partir de la siguiente lista de números, crear una nueva sólo si el número es divisible por 7<br>\n",
    "lis = [18,21,29,32,35,42,56,60,63,71,84,90,91,100]"
   ]
  },
  {
   "cell_type": "code",
   "execution_count": 57,
   "metadata": {},
   "outputs": [
    {
     "name": "stdout",
     "output_type": "stream",
     "text": [
      "[21, 35, 42, 56, 63, 84, 91]\n"
     ]
    }
   ],
   "source": [
    "lista = [18,21,29,32,35,42,56,60,63,71,84,90,91,100]\n",
    "lista_nueva = []\n",
    "\n",
    "for i in lista:\n",
    "    if i % 7 == 0: lista_nueva.append(i)\n",
    "\n",
    "#Otra forma más abreviada\n",
    "lista_nueva = [i for i in lista if i % 7 == 0]\n",
    "\n",
    "print (lista_nueva)\n"
   ]
  },
  {
   "attachments": {},
   "cell_type": "markdown",
   "metadata": {},
   "source": [
    "15) A partir de la lista de a continuación, contar la cantidad total de elementos que contiene, teniendo en cuenta que un elemento de la lista podría ser otra lista:<br>\n",
    "lis = [[1,2,3,4],'rojo','verde',[True,False,False],['uno','dos','tres']]"
   ]
  },
  {
   "cell_type": "code",
   "execution_count": 59,
   "metadata": {},
   "outputs": [
    {
     "name": "stdout",
     "output_type": "stream",
     "text": [
      "12\n"
     ]
    }
   ],
   "source": [
    "lis = [[1,2,3,4],'rojo','verde',[True,False,False],['uno','dos','tres']]\n",
    "cantidad_total = 0\n",
    "for elemento in lis:\n",
    "    if type(elemento) == list:\n",
    "        cantidad_total += len(elemento)\n",
    "    else:\n",
    "        cantidad_total +=1\n",
    "\n",
    "print (cantidad_total)\n",
    "        "
   ]
  },
  {
   "attachments": {},
   "cell_type": "markdown",
   "metadata": {},
   "source": [
    "16) Tomar la lista del punto anterior y convertir cada elemento en una lista si no lo es"
   ]
  },
  {
   "cell_type": "code",
   "execution_count": 64,
   "metadata": {},
   "outputs": [
    {
     "name": "stdout",
     "output_type": "stream",
     "text": [
      "[[1, 2, 3, 4], ['r', 'o', 'j', 'o'], ['v', 'e', 'r', 'd', 'e'], [True, False, False], ['uno', 'dos', 'tres']]\n"
     ]
    }
   ],
   "source": [
    "lis = [[1,2,3,4],'rojo','verde',[True,False,False],['uno','dos','tres']]\n",
    "\n",
    "for n, elemento in enumerate(lis):\n",
    "    if type(elemento) != list:\n",
    "       lis[n] = list(elemento) \n",
    "\n",
    "print (lis)"
   ]
  }
 ],
 "metadata": {
  "interpreter": {
   "hash": "c85384e4cb51c8b72350f3a8712cc8351fdc3955e32a27f9b60c6242ab125f01"
  },
  "kernelspec": {
   "display_name": "Python 3 (ipykernel)",
   "language": "python",
   "name": "python3"
  },
  "language_info": {
   "codemirror_mode": {
    "name": "ipython",
    "version": 3
   },
   "file_extension": ".py",
   "mimetype": "text/x-python",
   "name": "python",
   "nbconvert_exporter": "python",
   "pygments_lexer": "ipython3",
   "version": "3.9.7"
  }
 },
 "nbformat": 4,
 "nbformat_minor": 4
}
