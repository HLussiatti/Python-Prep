{
 "cells": [
  {
   "attachments": {},
   "cell_type": "markdown",
   "metadata": {},
   "source": [
    "## Flujos de Control"
   ]
  },
  {
   "attachments": {},
   "cell_type": "markdown",
   "metadata": {},
   "source": [
    "1) Crear una variable que contenga un elemento del conjunto de números enteros y luego imprimir por pantalla si es mayor o menor a cero"
   ]
  },
  {
   "cell_type": "code",
   "execution_count": 4,
   "metadata": {},
   "outputs": [
    {
     "name": "stdout",
     "output_type": "stream",
     "text": [
      "5\n"
     ]
    }
   ],
   "source": [
    "variable = 5\n",
    "if variable > 0:\n",
    "    print(variable)\n"
   ]
  },
  {
   "attachments": {},
   "cell_type": "markdown",
   "metadata": {},
   "source": [
    "2) Crear dos variables y un condicional que informe si son del mismo tipo de dato"
   ]
  },
  {
   "cell_type": "code",
   "execution_count": 5,
   "metadata": {},
   "outputs": [
    {
     "name": "stdout",
     "output_type": "stream",
     "text": [
      "Las variables son de distinto tipo\n"
     ]
    }
   ],
   "source": [
    "variable_1 = 6\n",
    "variable_2 = 'Hola'\n",
    "if type(variable_1) == type(variable_2):\n",
    "    print('Ambas variables son del mismo tipo')\n",
    "else:\n",
    "    print ('Las variables son de distinto tipo')"
   ]
  },
  {
   "attachments": {},
   "cell_type": "markdown",
   "metadata": {},
   "source": [
    "3) Para los valores enteros del 1 al 20, imprimir por pantalla si es par o impar"
   ]
  },
  {
   "cell_type": "code",
   "execution_count": 8,
   "metadata": {},
   "outputs": [
    {
     "name": "stdout",
     "output_type": "stream",
     "text": [
      "El Número  1  es impar.\n",
      "El Número  2  es par.\n",
      "El Número  3  es impar.\n",
      "El Número  4  es par.\n",
      "El Número  5  es impar.\n",
      "El Número  6  es par.\n",
      "El Número  7  es impar.\n",
      "El Número  8  es par.\n",
      "El Número  9  es impar.\n",
      "El Número  10  es par.\n",
      "El Número  11  es impar.\n",
      "El Número  12  es par.\n",
      "El Número  13  es impar.\n",
      "El Número  14  es par.\n",
      "El Número  15  es impar.\n",
      "El Número  16  es par.\n",
      "El Número  17  es impar.\n",
      "El Número  18  es par.\n",
      "El Número  19  es impar.\n",
      "El Número  20  es par.\n"
     ]
    }
   ],
   "source": [
    "\n",
    "for i in range(1, 21):\n",
    "    if i%2 ==0:\n",
    "        print('El Número ', str(i), ' es par.')\n",
    "    else:\n",
    "        print('El Número ', str(i), ' es impar.')\n"
   ]
  },
  {
   "attachments": {},
   "cell_type": "markdown",
   "metadata": {},
   "source": [
    "4) En un ciclo for mostrar para los valores entre 0 y 5 el resultado de elevarlo a la potencia igual a 3"
   ]
  },
  {
   "cell_type": "code",
   "execution_count": 10,
   "metadata": {},
   "outputs": [
    {
     "name": "stdout",
     "output_type": "stream",
     "text": [
      "0\n",
      "1\n",
      "8\n",
      "27\n",
      "64\n",
      "125\n"
     ]
    }
   ],
   "source": [
    "for i in range(0,6):\n",
    "    print (i**3)"
   ]
  },
  {
   "attachments": {},
   "cell_type": "markdown",
   "metadata": {},
   "source": [
    "5) Crear una variable que contenga un número entero y realizar un ciclo for la misma cantidad de ciclos"
   ]
  },
  {
   "cell_type": "code",
   "execution_count": 12,
   "metadata": {},
   "outputs": [
    {
     "name": "stdout",
     "output_type": "stream",
     "text": [
      "1\n",
      "2\n",
      "3\n",
      "4\n",
      "5\n"
     ]
    }
   ],
   "source": [
    "variable = 5\n",
    "for i in range (1,variable + 1):\n",
    "    print (i)"
   ]
  },
  {
   "attachments": {},
   "cell_type": "markdown",
   "metadata": {},
   "source": [
    "6) Utilizar un ciclo while para realizar el factorial de un número guardado en una variable, sólo si la variable contiene un número entero mayor a 0"
   ]
  },
  {
   "cell_type": "code",
   "execution_count": 20,
   "metadata": {},
   "outputs": [
    {
     "name": "stdout",
     "output_type": "stream",
     "text": [
      "120\n"
     ]
    }
   ],
   "source": [
    "variable = 5\n",
    "\n",
    "if variable <= 0 or type (variable) != int:\n",
    "    print ('La variable debe ser un número entero mayor o igual a 0')\n",
    "else:\n",
    "    i = variable\n",
    "    resultado = 1\n",
    "    while i != 1:\n",
    "        resultado = i * resultado\n",
    "        i -=1\n",
    "\n",
    "print (resultado)"
   ]
  },
  {
   "attachments": {},
   "cell_type": "markdown",
   "metadata": {},
   "source": [
    "7) Crear un ciclo for dentro de un ciclo while"
   ]
  },
  {
   "cell_type": "code",
   "execution_count": 29,
   "metadata": {},
   "outputs": [
    {
     "name": "stdout",
     "output_type": "stream",
     "text": [
      "Ciclo For número 1  dentro del Ciclo While número 1\n",
      "Ciclo For número 2  dentro del Ciclo While número 1\n",
      "Ciclo For número 3  dentro del Ciclo While número 1\n",
      "Ciclo For número 1  dentro del Ciclo While número 2\n",
      "Ciclo For número 2  dentro del Ciclo While número 2\n",
      "Ciclo For número 3  dentro del Ciclo While número 2\n",
      "Ciclo For número 1  dentro del Ciclo While número 3\n",
      "Ciclo For número 2  dentro del Ciclo While número 3\n",
      "Ciclo For número 3  dentro del Ciclo While número 3\n"
     ]
    }
   ],
   "source": [
    "i = 1\n",
    "while i != 4:\n",
    "    for j in range (1,4):\n",
    "        \n",
    "        print('Ciclo For número', str(j), ' dentro del Ciclo While número', str (i) )\n",
    "    i +=1\n",
    "        "
   ]
  },
  {
   "attachments": {},
   "cell_type": "markdown",
   "metadata": {},
   "source": [
    "8) Crear un ciclo while dentro de un ciclo for"
   ]
  },
  {
   "cell_type": "code",
   "execution_count": 30,
   "metadata": {},
   "outputs": [
    {
     "name": "stdout",
     "output_type": "stream",
     "text": [
      "Ciclo While número 1  dentro del Ciclo For número 1\n",
      "Ciclo While número 1  dentro del Ciclo For número 2\n",
      "Ciclo While número 2  dentro del Ciclo For número 2\n",
      "Ciclo While número 1  dentro del Ciclo For número 3\n",
      "Ciclo While número 2  dentro del Ciclo For número 3\n",
      "Ciclo While número 3  dentro del Ciclo For número 3\n"
     ]
    }
   ],
   "source": [
    "for i in range (1,4):\n",
    "    j = 0\n",
    "    while j != i:\n",
    "        j +=1\n",
    "        print('Ciclo While número', str(j), ' dentro del Ciclo For número', str (i) )"
   ]
  },
  {
   "attachments": {},
   "cell_type": "markdown",
   "metadata": {},
   "source": [
    "9) Imprimir los números primos existentes entre 0 y 30"
   ]
  },
  {
   "cell_type": "code",
   "execution_count": 39,
   "metadata": {},
   "outputs": [
    {
     "name": "stdout",
     "output_type": "stream",
     "text": [
      "2  es un número primo.\n",
      "3  es un número primo.\n",
      "5  es un número primo.\n",
      "7  es un número primo.\n",
      "11  es un número primo.\n",
      "13  es un número primo.\n",
      "17  es un número primo.\n",
      "19  es un número primo.\n",
      "23  es un número primo.\n",
      "29  es un número primo.\n"
     ]
    }
   ],
   "source": [
    "for i in range (0,31):\n",
    "    if (i != 0 and i != 1):\n",
    "        divisores = 0\n",
    "        for j in range(1, i + 1):\n",
    "            if i % j == 0:\n",
    "                divisores += 1 \n",
    "        if divisores ==2:\n",
    "            print(str(i), ' es un número primo.')\n",
    "        "
   ]
  },
  {
   "attachments": {},
   "cell_type": "markdown",
   "metadata": {},
   "source": [
    "10) ¿Se puede mejorar el proceso del punto 9? Utilizar las sentencias break y/ó continue para tal fin"
   ]
  },
  {
   "cell_type": "code",
   "execution_count": 40,
   "metadata": {},
   "outputs": [
    {
     "name": "stdout",
     "output_type": "stream",
     "text": [
      "2  es un número primo.\n",
      "3  es un número primo.\n",
      "5  es un número primo.\n",
      "7  es un número primo.\n",
      "11  es un número primo.\n",
      "13  es un número primo.\n",
      "17  es un número primo.\n",
      "19  es un número primo.\n",
      "23  es un número primo.\n",
      "29  es un número primo.\n"
     ]
    }
   ],
   "source": [
    "for i in range (0,31):\n",
    "    if (i != 0 and i != 1):\n",
    "        divisores = 0\n",
    "        for j in range(1, i + 1):\n",
    "            if i % j == 0:\n",
    "                divisores += 1\n",
    "                if divisores >2:\n",
    "                    break\n",
    "        if divisores ==2:\n",
    "            print(str(i), ' es un número primo.')"
   ]
  },
  {
   "attachments": {},
   "cell_type": "markdown",
   "metadata": {},
   "source": [
    "11) En los puntos 9 y 10, se diseño un código que encuentra números primos y además se lo optimizó. ¿Es posible saber en qué medida se optimizó?"
   ]
  },
  {
   "cell_type": "code",
   "execution_count": 46,
   "metadata": {},
   "outputs": [
    {
     "name": "stdout",
     "output_type": "stream",
     "text": [
      "Total de Iteraciones en el ejercicio 9:  110\n",
      "Total de Iteraciones en el ejercicio 10:  77\n",
      "Se realizaron  33  menos.\n"
     ]
    }
   ],
   "source": [
    "contar_iteraciones1 = 0\n",
    "for i in range (0,31):\n",
    "    if (i != 0 and i != 1):\n",
    "        divisores = 0\n",
    "        for j in range(1, i + 1):\n",
    "            if i % j == 0:\n",
    "                divisores += 1 \n",
    "                contar_iteraciones1 +=1\n",
    "        \n",
    "\n",
    "contar_iteraciones2 = 0\n",
    "for i in range (0,31):\n",
    "    if (i != 0 and i != 1):\n",
    "        divisores = 0\n",
    "        for j in range(1, i + 1):\n",
    "            if i % j == 0:\n",
    "                divisores += 1\n",
    "                contar_iteraciones2 +=1\n",
    "                if divisores >2:\n",
    "                    break\n",
    "\n",
    "print ('Total de Iteraciones en el ejercicio 9: ' ,str (contar_iteraciones1))\n",
    "print ('Total de Iteraciones en el ejercicio 10: ' ,str (contar_iteraciones2))\n",
    "print ('Se realizaron ', str(contar_iteraciones1 - contar_iteraciones2), ' menos.')"
   ]
  },
  {
   "attachments": {},
   "cell_type": "markdown",
   "metadata": {},
   "source": [
    "12) Aplicando continue, armar un ciclo while que solo imprima los valores divisibles por 12, dentro del rango de números de 100 a 300"
   ]
  },
  {
   "cell_type": "code",
   "execution_count": 57,
   "metadata": {},
   "outputs": [
    {
     "name": "stdout",
     "output_type": "stream",
     "text": [
      "108\n",
      "120\n",
      "132\n",
      "144\n",
      "156\n",
      "168\n",
      "180\n",
      "192\n",
      "204\n",
      "216\n",
      "228\n",
      "240\n",
      "252\n",
      "264\n",
      "276\n",
      "288\n",
      "300\n"
     ]
    }
   ],
   "source": [
    "i = 99\n",
    "while i <=300:\n",
    "    i += 1\n",
    "    if (i % 12 != 0):\n",
    "        continue\n",
    "    print (i)\n",
    "    \n",
    "    "
   ]
  },
  {
   "attachments": {},
   "cell_type": "markdown",
   "metadata": {},
   "source": [
    "13) Utilizar la función **input()** que permite hacer ingresos por teclado, para encontrar números primos y dar la opción al usario de buscar el siguiente"
   ]
  },
  {
   "cell_type": "code",
   "execution_count": 89,
   "metadata": {},
   "outputs": [
    {
     "name": "stdout",
     "output_type": "stream",
     "text": [
      "2  es un número primo.\n",
      "3  es un número primo.\n"
     ]
    }
   ],
   "source": [
    "número = input('Ingrese un número entero mayor a 1')\n",
    "número = int (número)\n",
    "\n",
    "if (número <= 1 or type (número) != int):\n",
    "    print ('Ingrese un número entero mayor a 1')\n",
    "else:\n",
    "    for i in range (2,número+1):\n",
    "        divisores = 0\n",
    "        for j in range(1, i + 1):\n",
    "            if i % j == 0:\n",
    "                divisores += 1\n",
    "                if divisores > 2:\n",
    "                    divisores = 0\n",
    "                    break\n",
    "        if divisores == 2:\n",
    "            print(str(i), ' es un número primo.')\n",
    "            \n",
    "            choise = input ('Desea encontrar el próximo valor primo? yes/no')\n",
    "            \n",
    "            if choise != 'yes' and choise != 'no':\n",
    "                choise = input ('Ingrese una opción válida: yes/no')\n",
    "            elif choise == 'yes':\n",
    "                continue\n",
    "            else:\n",
    "                break\n",
    "        \n",
    "        \n",
    "\n",
    "                "
   ]
  },
  {
   "attachments": {},
   "cell_type": "markdown",
   "metadata": {},
   "source": [
    "14) Crear un ciclo while que encuentre dentro del rango de 100 a 300 el primer número divisible por 3 y además múltiplo de 6"
   ]
  },
  {
   "cell_type": "code",
   "execution_count": 91,
   "metadata": {},
   "outputs": [
    {
     "name": "stdout",
     "output_type": "stream",
     "text": [
      "102\n"
     ]
    }
   ],
   "source": [
    "número = 100\n",
    "while número <= 300:\n",
    "    if número % 3 == 0 and número % 6 ==0:\n",
    "        print (str(número))\n",
    "        break\n",
    "    número +=1\n"
   ]
  }
 ],
 "metadata": {
  "interpreter": {
   "hash": "c85384e4cb51c8b72350f3a8712cc8351fdc3955e32a27f9b60c6242ab125f01"
  },
  "kernelspec": {
   "display_name": "Python 3 (ipykernel)",
   "language": "python",
   "name": "python3"
  },
  "language_info": {
   "codemirror_mode": {
    "name": "ipython",
    "version": 3
   },
   "file_extension": ".py",
   "mimetype": "text/x-python",
   "name": "python",
   "nbconvert_exporter": "python",
   "pygments_lexer": "ipython3",
   "version": "3.10.6"
  }
 },
 "nbformat": 4,
 "nbformat_minor": 4
}
