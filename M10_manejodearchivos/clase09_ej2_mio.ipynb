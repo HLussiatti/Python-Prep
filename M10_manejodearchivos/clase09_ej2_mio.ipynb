{
 "cells": [
  {
   "cell_type": "markdown",
   "metadata": {},
   "source": [
    "2) Crear un script con el nombre \"clase09_ej2.py2\" que reciba como un valor de temperatura en grados centígrados, un valor de humedad y por último si llovio \n",
    "#(Con True o False). Y que cada vez que sea invocado, cargue en el archivo provisto \"clase09_ej2.csv\" una marca de tiempo y esa información.\n",
    "#Para trabajar con tipos de datos relacionados con la medición del tiempo, como ser fechas, horarios o marcas de tiempo se puede utilizar la clase *datetime*"
   ]
  },
  {
   "cell_type": "code",
   "execution_count": 1,
   "metadata": {},
   "outputs": [
    {
     "name": "stdout",
     "output_type": "stream",
     "text": [
      "50\n",
      "55\n",
      "False\n"
     ]
    }
   ],
   "source": [
    "import datetime\n",
    "import os\n",
    "import sys\n",
    "\n",
    "tiempo = datetime.datetime.now()\n",
    "#tiempo = datetime.datetime.timestamp(tiempo)\n",
    "#tiempo = datetime.datetime.fromtimestamp(tiempo)\n",
    "\n",
    "sys.argv.append(int(input('Ingrese un valor de temperatura en °C: ')))\n",
    "sys.argv.append( int(input('Ingrese un porcentaje de humedad: ')))\n",
    "respuesta = '' \n",
    "while respuesta != 'SI' and respuesta != 'NO':    \n",
    "    respuesta = input('Llovió o no llovio? SI/NO: ')\n",
    "    if respuesta == 'SI':\n",
    "        sys.argv.append(True)\n",
    "    elif respuesta == 'NO':\n",
    "        sys.argv.append(False)\n",
    "\n",
    "\n",
    "file = open('clase09_ej2_mio.csv','a')\n",
    "file.write(str(tiempo)+',')\n",
    "for n in range(2,5):\n",
    "    print (str(sys.argv[n]))\n",
    "    file.write(str(sys.argv[n]))\n",
    "    if n != 4: file.write (',')\n",
    "file.write('\\n')\n",
    "file.close()\n"
   ]
  }
 ],
 "metadata": {
  "kernelspec": {
   "display_name": "Python 3",
   "language": "python",
   "name": "python3"
  },
  "language_info": {
   "codemirror_mode": {
    "name": "ipython",
    "version": 3
   },
   "file_extension": ".py",
   "mimetype": "text/x-python",
   "name": "python",
   "nbconvert_exporter": "python",
   "pygments_lexer": "ipython3",
   "version": "3.12.1"
  }
 },
 "nbformat": 4,
 "nbformat_minor": 2
}
