{
 "cells": [
  {
   "attachments": {},
   "cell_type": "markdown",
   "metadata": {},
   "source": [
    "## Clases y Programación Orientada a Objetos"
   ]
  },
  {
   "attachments": {},
   "cell_type": "markdown",
   "metadata": {},
   "source": [
    "1) Crear la clase vehículo que contenga los atributos:<br>\n",
    "Color<br>\n",
    "Si es moto, auto, camioneta ó camión<br>\n",
    "Cilindrada del motor"
   ]
  },
  {
   "cell_type": "code",
   "execution_count": 3,
   "metadata": {},
   "outputs": [],
   "source": [
    "class Vehículo ():\n",
    "    def __init__(self,Color, Tipo, Cilindrada):\n",
    "        self.Color = Color\n",
    "        if (Tipo != 'Moto' and Tipo != 'Auto' and Tipo != 'Camión'): print ('Debe ser Moto, Auto o Camión')\n",
    "        else:  self.Tipo = Tipo\n",
    "        self.Cilindrada = Cilindrada"
   ]
  },
  {
   "attachments": {},
   "cell_type": "markdown",
   "metadata": {},
   "source": [
    "2) A la clase Vehiculo creada en el punto 1, agregar los siguientes métodos:<br>\n",
    "Acelerar<br>\n",
    "Frenar<br>\n",
    "Doblar<br>"
   ]
  },
  {
   "cell_type": "code",
   "execution_count": 17,
   "metadata": {},
   "outputs": [],
   "source": [
    "class Vehículo ():\n",
    "    def __init__(self,Color, Tipo, Cilindrada):\n",
    "        self.Color = Color\n",
    "        if (Tipo != 'Moto' and Tipo != 'Auto' and Tipo != 'Camión'): print ('Debe ser Moto, Auto o Camión')\n",
    "        else:  self.Tipo = Tipo\n",
    "        self.Cilindrada = Cilindrada\n",
    "        self.Velocidad = 0\n",
    "        self.Ángulo = 0\n",
    "    \n",
    "    def Acelerar(self,Velocidad):\n",
    "        self.Velocidad += Velocidad\n",
    "    def Frenar(self,Velocidad):\n",
    "        self.Velocidad -= Velocidad\n",
    "    def Doblar(self,Ángulo):\n",
    "        self.Ángulo += Ángulo"
   ]
  },
  {
   "attachments": {},
   "cell_type": "markdown",
   "metadata": {},
   "source": [
    "3) Instanciar 3 objetos de la clase vehículo y ejecutar sus métodos, probar luego el resultado"
   ]
  },
  {
   "cell_type": "code",
   "execution_count": 18,
   "metadata": {},
   "outputs": [
    {
     "name": "stdout",
     "output_type": "stream",
     "text": [
      "La Velocidad del Vehículo 1 es:80\n",
      "La Velocidad del Vehículo 2 es:-10\n",
      "La Dirección del Vehículo 2 es:30\n"
     ]
    }
   ],
   "source": [
    "v1 = Vehículo ('Rojo','Moto',290)\n",
    "v2 = Vehículo ('Amarillo','Auto',300)\n",
    "v3 = Vehículo ('Azul','Camión',9000)\n",
    "\n",
    "v1.Acelerar(100)\n",
    "v2.Frenar(10)\n",
    "v3.Doblar(30)\n",
    "v1.Acelerar(-20)\n",
    "\n",
    "print('La Velocidad del Vehículo 1 es:' + str(v1.Velocidad))\n",
    "print('La Velocidad del Vehículo 2 es:' + str(v2.Velocidad))\n",
    "print('La Dirección del Vehículo 3 es:' + str(v3.Ángulo))"
   ]
  },
  {
   "attachments": {},
   "cell_type": "markdown",
   "metadata": {},
   "source": [
    "4) Agregar a la clase Vehiculo, un método que muestre su estado, es decir, a que velocidad se encuentra y su dirección. Y otro método que muestre color, tipo y cilindrada"
   ]
  },
  {
   "cell_type": "code",
   "execution_count": 21,
   "metadata": {},
   "outputs": [
    {
     "name": "stdout",
     "output_type": "stream",
     "text": [
      "La Velocidad del Vehículo es: 80 y su Dirección es: 0\n",
      "El Vehículo es un/a: Auto de color Amarillo y de Cilindrada 300\n"
     ]
    }
   ],
   "source": [
    "class Vehículo ():\n",
    "    def __init__(self,Color, Tipo, Cilindrada):\n",
    "        self.Color = Color\n",
    "        if (Tipo != 'Moto' and Tipo != 'Auto' and Tipo != 'Camión'): print ('Debe ser Moto, Auto o Camión')\n",
    "        else:  self.Tipo = Tipo\n",
    "        self.Cilindrada = Cilindrada\n",
    "        self.Velocidad = 0\n",
    "        self.Ángulo = 0\n",
    "    \n",
    "    def Acelerar(self,Velocidad):\n",
    "        self.Velocidad += Velocidad\n",
    "    def Frenar(self,Velocidad):\n",
    "        self.Velocidad -= Velocidad\n",
    "    def Doblar(self,Ángulo):\n",
    "        self.Ángulo += Ángulo\n",
    "    def Estado(self):\n",
    "        print('La Velocidad del Vehículo es: ' + str(self.Velocidad) + ' y su Dirección es: ' + str(self.Ángulo))\n",
    "    def Descripción (self):\n",
    "        print('El Vehículo es un/a: ' + self.Tipo + ' de color ' + self.Color +' y de Cilindrada ' + str(self.Cilindrada))\n",
    "\n",
    "v1 = Vehículo ('Rojo','Moto',290)\n",
    "v2 = Vehículo ('Amarillo','Auto',300)\n",
    "v3 = Vehículo ('Azul','Camión',9000)\n",
    "\n",
    "v1.Acelerar(100)\n",
    "v2.Frenar(10)\n",
    "v3.Doblar(30)\n",
    "v1.Acelerar(-20)\n",
    "\n",
    "v1.Estado()\n",
    "v2.Descripción()"
   ]
  },
  {
   "attachments": {},
   "cell_type": "markdown",
   "metadata": {},
   "source": [
    "5) Crear una clase que permita utilizar las funciones creadas en la práctica del módulo 7<br>\n",
    "Verificar Primo<br>\n",
    "Valor modal<br>\n",
    "Conversión grados<br>\n",
    "Factorial<br>"
   ]
  },
  {
   "cell_type": "code",
   "execution_count": 31,
   "metadata": {},
   "outputs": [],
   "source": [
    "class Funciones ():\n",
    "    def __init__ (self):\n",
    "        pass\n",
    "\n",
    "    \n",
    "    def es_primo (self, numero):\n",
    "        if (numero != 0 and numero != 1):\n",
    "            divisores = 0\n",
    "            for j in range(1, numero + 1):\n",
    "                if numero % j == 0:\n",
    "                    divisores += 1\n",
    "                    if divisores >2:\n",
    "                        return print('El número no es primo')\n",
    "                        break\n",
    "            if divisores ==2:\n",
    "                return print('El número sí es primo')\n",
    "        else:\n",
    "            return print('El número no es primo')\n",
    "\n",
    "    \n",
    "    def numero_repetido (self, lista):\n",
    "        mas_repetido = 0\n",
    "        catidad_repeticiones=0\n",
    "        for i in lista:\n",
    "            if catidad_repeticiones < lista.count(i): \n",
    "                catidad_repeticiones = lista.count(i) \n",
    "                mas_repetido = i\n",
    "        print ('El número que más se repite es: ' + str(mas_repetido) + ' un total de ' + str (catidad_repeticiones) + ' veces.')\n",
    "        \n",
    "    \n",
    "    def convierte_grados (self,temp, origen , destino):\n",
    "        if origen == destino:\n",
    "            print ('La unidad de origen y destino son iguales.')\n",
    "        \n",
    "        elif origen == 'Celsius' and origen == 'Farenheit' and origen == 'Kelvin':\n",
    "            print ('La unidad de origen es incorrecta, ingrese un valor válido: Celsius / Fareheit / Kelvin')\n",
    "        \n",
    "        elif destino == 'Celsius' and destino == 'Farenheit' and destino == 'Kelvin':\n",
    "            print ('La unidad de destino es incorrecta, ingrese un valor válido: Celsius / Fareheit / Kelvin')\n",
    "\n",
    "        elif origen == 'Celsius': \n",
    "            if destino == 'Farenheit':\n",
    "                resultado = (temp * 9/5) + 32\n",
    "            elif destino == 'Kelvin':\n",
    "                resultado = temp + 273.15\n",
    "        \n",
    "        elif origen == 'Farenheit':\n",
    "            if destino == 'Celsius':\n",
    "                resultado = (temp - 32) * 5/9\n",
    "            elif destino == 'Kelvin':\n",
    "                resultado = (temp - 32) * 5/9 + 273.15\n",
    "\n",
    "        elif origen == 'Kelvin': \n",
    "            if destino == 'Farenheit':\n",
    "                resultado = (temp - 273.15) * 9/5 +32\n",
    "            elif  destino == 'Celsius':\n",
    "                resultado = (temp - 273.15)\n",
    "\n",
    "        \n",
    "        return print (str(temp) + ' grados ' + origen + ' son equivalentes a: ' + str(round(resultado,2)) + ' grados ' + destino)\n",
    "\n",
    "    def factorial (self, numero):\n",
    "        if type (numero) != int:\n",
    "            return print ('Ingrese un número entero.')\n",
    "        elif numero < 0:\n",
    "            return print ('Ingrese un valor positivo.')\n",
    "        elif numero <= 1:\n",
    "            return 1\n",
    "        else:\n",
    "            numero = numero * self.factorial (numero - 1)\n",
    "            return numero\n",
    "    "
   ]
  },
  {
   "attachments": {},
   "cell_type": "markdown",
   "metadata": {},
   "source": [
    "6) Probar las funciones incorporadas en la clase del punto 5"
   ]
  },
  {
   "cell_type": "code",
   "execution_count": 33,
   "metadata": {},
   "outputs": [
    {
     "name": "stdout",
     "output_type": "stream",
     "text": [
      "El número sí es primo\n",
      "El número que más se repite es: 7 un total de 3 veces.\n",
      "5 grados Celsius son equivalentes a: 278.15 grados Kelvin\n"
     ]
    },
    {
     "data": {
      "text/plain": [
       "40320"
      ]
     },
     "execution_count": 33,
     "metadata": {},
     "output_type": "execute_result"
    }
   ],
   "source": [
    "test = Funciones()\n",
    "test.es_primo(7)\n",
    "\n",
    "lista = [1,2,3,4,5,6,7,7,7,8,9,10,11,12,13,14,15,16,17,18,19,20]     \n",
    "test.numero_repetido(lista )\n",
    "\n",
    "test.convierte_grados(5,'Celsius','Kelvin')\n",
    "test.factorial (8)\n",
    "\n"
   ]
  },
  {
   "attachments": {},
   "cell_type": "markdown",
   "metadata": {},
   "source": [
    "7) Es necesario que la clase creada en el punto 5 contenga una lista, sobre la cual se apliquen las funciones incorporadas"
   ]
  },
  {
   "cell_type": "code",
   "execution_count": 100,
   "metadata": {},
   "outputs": [],
   "source": [
    "class Funciones ():\n",
    "    def __init__ (self, lista):\n",
    "        self.lista = lista\n",
    "\n",
    "    def es_primo (self):\n",
    "        for numero in self.lista:\n",
    "            self.__es_primo(numero)\n",
    "\n",
    "    def  __es_primo (self,numero):\n",
    "        if (numero != 0 and numero != 1):\n",
    "            divisores = 0\n",
    "            for j in range(1, numero + 1):\n",
    "                if numero % j == 0:\n",
    "                    divisores += 1\n",
    "                    if divisores >2:\n",
    "                        return print('El número: ' + str(numero) + ' no es primo')\n",
    "                        break\n",
    "            if divisores ==2:\n",
    "                return print('El número: ' + str(numero) + ' sí es primo')\n",
    "        else:\n",
    "            return print('El número: ' + str(numero) + ' no es primo')\n",
    "\n",
    "    \n",
    "    def numero_repetido (self):\n",
    "        mas_repetido = 0\n",
    "        catidad_repeticiones=0\n",
    "        for i in self.lista:\n",
    "            if catidad_repeticiones < self.lista.count(i): \n",
    "                catidad_repeticiones = self.lista.count(i) \n",
    "                mas_repetido = i\n",
    "        print ('El número que más se repite es: ' + str(mas_repetido) + ' un total de ' + str (catidad_repeticiones) + ' veces.')\n",
    "\n",
    "\n",
    "    def convierte_grados(self, origen , destino):\n",
    "        for i in self.lista:\n",
    "            self.__convierte_grados(i, origen, destino)\n",
    "\n",
    "    def __convierte_grados (self, temp, origen , destino):\n",
    "        if origen == destino:\n",
    "            print ('La unidad de origen y destino son iguales.')\n",
    "        \n",
    "        elif origen == 'Celsius' and origen == 'Farenheit' and origen == 'Kelvin':\n",
    "            print ('La unidad de origen es incorrecta, ingrese un valor válido: Celsius / Fareheit / Kelvin')\n",
    "        \n",
    "        elif destino == 'Celsius' and destino == 'Farenheit' and destino == 'Kelvin':\n",
    "            print ('La unidad de destino es incorrecta, ingrese un valor válido: Celsius / Fareheit / Kelvin')\n",
    "\n",
    "        elif origen == 'Celsius': \n",
    "            if destino == 'Farenheit':\n",
    "                resultado = (temp * 9/5) + 32\n",
    "            elif destino == 'Kelvin':\n",
    "                resultado = temp + 273.15\n",
    "        \n",
    "        elif origen == 'Farenheit':\n",
    "            if destino == 'Celsius':\n",
    "                resultado = (temp - 32) * 5/9\n",
    "            elif destino == 'Kelvin':\n",
    "                resultado = (temp - 32) * 5/9 + 273.15\n",
    "\n",
    "        elif origen == 'Kelvin': \n",
    "            if destino == 'Farenheit':\n",
    "                resultado = (temp - 273.15) * 9/5 +32\n",
    "            elif  destino == 'Celsius':\n",
    "                resultado = (temp - 273.15)\n",
    "\n",
    "        print (str(temp) + ' grados ' + origen + ' son equivalentes a: ' + str(round(resultado,2)) + ' grados ' + destino)\n",
    "\n",
    "    def factorial(self):\n",
    "        for i in self.lista:    \n",
    "            print ('El factorial de numero: ' + str(i) + ' es: ' + str(self.__factorial(i)))\n",
    "    \n",
    "    def __factorial (self,numero): \n",
    "        if type (numero) != int:\n",
    "            return print ('Ingrese un número entero.')\n",
    "        elif numero < 0:\n",
    "            return print ('Ingrese un valor positivo.')\n",
    "        elif numero <= 1:\n",
    "            return 1\n",
    "        else:\n",
    "            numero = numero * self.__factorial (numero - 1)\n",
    "            return numero\n",
    "            "
   ]
  },
  {
   "cell_type": "code",
   "execution_count": 102,
   "metadata": {},
   "outputs": [
    {
     "name": "stdout",
     "output_type": "stream",
     "text": [
      "1 grados Celsius son equivalentes a: 274.15 grados Kelvin\n",
      "2 grados Celsius son equivalentes a: 275.15 grados Kelvin\n",
      "3 grados Celsius son equivalentes a: 276.15 grados Kelvin\n",
      "4 grados Celsius son equivalentes a: 277.15 grados Kelvin\n",
      "5 grados Celsius son equivalentes a: 278.15 grados Kelvin\n",
      "6 grados Celsius son equivalentes a: 279.15 grados Kelvin\n",
      "7 grados Celsius son equivalentes a: 280.15 grados Kelvin\n",
      "7 grados Celsius son equivalentes a: 280.15 grados Kelvin\n",
      "7 grados Celsius son equivalentes a: 280.15 grados Kelvin\n",
      "8 grados Celsius son equivalentes a: 281.15 grados Kelvin\n",
      "9 grados Celsius son equivalentes a: 282.15 grados Kelvin\n",
      "10 grados Celsius son equivalentes a: 283.15 grados Kelvin\n",
      "11 grados Celsius son equivalentes a: 284.15 grados Kelvin\n",
      "12 grados Celsius son equivalentes a: 285.15 grados Kelvin\n",
      "18 grados Celsius son equivalentes a: 291.15 grados Kelvin\n",
      "19 grados Celsius son equivalentes a: 292.15 grados Kelvin\n",
      "20 grados Celsius son equivalentes a: 293.15 grados Kelvin\n"
     ]
    }
   ],
   "source": [
    "lista = [1,2,3,4,5,6,7,7,7,8,9,10,11,12,18,19,20]    \n",
    "\n",
    "test = Funciones(lista)\n",
    "#test.es_primo()\n",
    "#test.numero_repetido( )\n",
    "test.convierte_grados('Celsius','Kelvin')\n",
    "#test.factorial ()"
   ]
  },
  {
   "attachments": {},
   "cell_type": "markdown",
   "metadata": {},
   "source": [
    "8) Crear un archivo .py aparte y ubicar allí la clase generada en el punto anterior. Luego realizar la importación del módulo y probar alguna de sus funciones"
   ]
  },
  {
   "cell_type": "code",
   "execution_count": 1,
   "metadata": {},
   "outputs": [
    {
     "name": "stdout",
     "output_type": "stream",
     "text": [
      "4 grados Celsius son equivalentes a: 277.15 grados Kelvin\n",
      "15 grados Celsius son equivalentes a: 288.15 grados Kelvin\n",
      "15 grados Celsius son equivalentes a: 288.15 grados Kelvin\n",
      "15 grados Celsius son equivalentes a: 288.15 grados Kelvin\n",
      "15 grados Celsius son equivalentes a: 288.15 grados Kelvin\n",
      "16 grados Celsius son equivalentes a: 289.15 grados Kelvin\n",
      "17 grados Celsius son equivalentes a: 290.15 grados Kelvin\n",
      "18 grados Celsius son equivalentes a: 291.15 grados Kelvin\n",
      "19 grados Celsius son equivalentes a: 292.15 grados Kelvin\n",
      "20 grados Celsius son equivalentes a: 293.15 grados Kelvin\n"
     ]
    }
   ],
   "source": [
    "from Archivo_Funciones import * \n",
    "\n",
    "\n",
    "lista = [4,15,15,15,15,16,17,18,19,20]    \n",
    "\n",
    "test = Funciones_del_Archivo(lista)\n",
    "#test.es_primo()\n",
    "#test.numero_repetido( )\n",
    "test.convierte_grados('Celsius','Kelvin')\n",
    "#test.factorial ()"
   ]
  }
 ],
 "metadata": {
  "interpreter": {
   "hash": "c85384e4cb51c8b72350f3a8712cc8351fdc3955e32a27f9b60c6242ab125f01"
  },
  "kernelspec": {
   "display_name": "Python 3 (ipykernel)",
   "language": "python",
   "name": "python3"
  },
  "language_info": {
   "codemirror_mode": {
    "name": "ipython",
    "version": 3
   },
   "file_extension": ".py",
   "mimetype": "text/x-python",
   "name": "python",
   "nbconvert_exporter": "python",
   "pygments_lexer": "ipython3",
   "version": "3.12.1"
  }
 },
 "nbformat": 4,
 "nbformat_minor": 4
}
